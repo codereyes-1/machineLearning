{
 "cells": [
  {
   "cell_type": "markdown",
   "metadata": {
    "colab_type": "text",
    "id": "CazISR8X_HUG"
   },
   "source": [
    "# Multiple Linear Regression"
   ]
  },
  {
   "cell_type": "code",
   "execution_count": null,
   "metadata": {},
   "outputs": [],
   "source": [
    "5 methods of building models:\n",
    "    1. All-In\n",
    "    2. Backwards elimination\n",
    "    3. Forward selection\n",
    "    4. Bidirectional elimination\n",
    "    5. Score comparison\n",
    "        **3,4,5{Stepwise regression}\n",
    "        \n",
    "1. All-In: throw in all your vars\n",
    "    if you have prior knowlege OR\n",
    "    required by a framework you are using(maybe bank reqs vars to predict chances of default on credit)\n",
    "    preparing for backward elimination\n",
    "    \n",
    "2. Backward elimination\n",
    "1. Select significance level to stay in the model (e.g. SL = 0.05)\n",
    "2. Fit the full model with all possible predictors\n",
    "    Put all vars into your model\n",
    "3. consider predictor with highestt P-value. if P > SL, go to step 4, else go to FIN\n",
    "4. Remove the predictor with highest P-value\n",
    "5. Fit model without this var (re-fit, rebuild model with now less vars )\n",
    "    Repeat until highest P-value is lower than the significance level\n",
    "    Then go to FIN > finish: your model is ready\n",
    "        \n",
    "3. Forward selection\n",
    "1. Select a significance level to enter the model (e.g. SL = 0.05)\n",
    "2. Fit all simple regression models y ~ x;n\n",
    "    Take dependent variable and create regession model\n",
    "    with EVERY single independent var that we have\n",
    "    From those, select model with lowest P-value for indep var\n",
    "3. Keep this variable and fit all possible models with one extra predictor added to the ones we have\n",
    "    We have selected a simple linear regression with one var\n",
    "    now need to construct all possible linear regressions with two vars\n",
    "    where one of those vars is the one we just selected\n",
    "    pair with another var\n",
    "    out of all these two-var regressions, consider the one where new var added\n",
    "    had the lowest P-value \n",
    "    So if that P-value < that SL, select indep var for this regression as 2nd var\n",
    "    now back to step 3, pair each remaining var with the 2 we have selected\n",
    "    Of all those models, select var with lowest P-value \n",
    "    Only stop when var added has P-value greater than SL \n",
    "    If P < SL do not add that var and go to FIN cuz that last var not significant anymore \n",
    "4. Bidirectional elimination\n",
    "1. Select a significance level to enter and stay in the model \n",
    "2. Peform next step of Forward selection (new vars must have: P < SLEnter to enter)\n",
    "    To enter, vars must generate P-value < SL to enter\n",
    "3. Perform ALL steps of Backward elimination (old vars must have P < SLStay to stay)\n",
    "\n",
    "    \n",
    "    \n",
    "    \n",
    "    \n",
    "    \n",
    "    \n",
    "    \n",
    "    \n",
    "    \n",
    "    \n",
    "    "
   ]
  },
  {
   "cell_type": "code",
   "execution_count": 1,
   "metadata": {},
   "outputs": [
    {
     "ename": "SyntaxError",
     "evalue": "invalid syntax (2094836816.py, line 2)",
     "output_type": "error",
     "traceback": [
      "\u001b[0;36m  Input \u001b[0;32mIn [1]\u001b[0;36m\u001b[0m\n\u001b[0;31m    Profit     R&D       Admin       Marketing      State\u001b[0m\n\u001b[0m               ^\u001b[0m\n\u001b[0;31mSyntaxError\u001b[0m\u001b[0;31m:\u001b[0m invalid syntax\n"
     ]
    }
   ],
   "source": [
    "# -> Dep Var y = b;0 + b;1 * x;1 + b;2 * x;2 + ... + b;n * x;n <- indep var\n",
    "Profit     R&D       Admin       Marketing      State\n",
    "y = b;0 + b;1*x;1 + b;2 * x;2 + b;3 * x;3 +     ????\n",
    "y = b;0 + b;1*x;1 + b;2 * x;2 + b;3 * x;3 +     b;4 * D;1\n",
    "# State is categorical variable as opposed to numerical...Make it dummy var\n",
    "# Create column for each unique dummy var(New York, California)\n",
    "# For NY column, put 1 where row has state = NY\n",
    "# Rows where not NY put a 0 for NY column\n",
    "# Same for CA column for rows where state = CA \n",
    "# Dummy vars work as switch 1=on 0=off\n",
    "# Not iased: constant for CA is included in b;0\n",
    "# adding b;4 coefficient,which is difference when D;1 = 1\n",
    "# Do NOT include both dummy variables at the same time. \n",
    "# Where state and industry, can have 1 dummy var from each set\n",
    "\n",
    "Assumptions of Linear Regression\n",
    "1. Linearity\n",
    "2. Homoscedasticity\n",
    "3. Multivariate normality\n",
    "4. Independence of errors\n",
    "5. Lack of multicollinearity"
   ]
  },
  {
   "cell_type": "code",
   "execution_count": null,
   "metadata": {},
   "outputs": [],
   "source": [
    "Statistical Significance \n",
    "a = 0.5 when something is 5% or less likely to happen 1/20 \n",
    "so unlikely to see this by random justifies rejecting H;0 null hypothesis\n",
    "95% sure we are not in fair universe but in unfair coin universe "
   ]
  },
  {
   "cell_type": "markdown",
   "metadata": {
    "colab_type": "text",
    "id": "pOyqYHTk_Q57"
   },
   "source": [
    "## Importing the libraries"
   ]
  },
  {
   "cell_type": "code",
   "execution_count": null,
   "metadata": {
    "colab": {},
    "colab_type": "code",
    "id": "T_YHJjnD_Tja"
   },
   "outputs": [],
   "source": [
    "import numpy as np\n",
    "import matplotlib.pyplot as plt\n",
    "import pandas as pd"
   ]
  },
  {
   "cell_type": "markdown",
   "metadata": {
    "colab_type": "text",
    "id": "vgC61-ah_WIz"
   },
   "source": [
    "## Importing the dataset"
   ]
  },
  {
   "cell_type": "code",
   "execution_count": null,
   "metadata": {
    "colab": {},
    "colab_type": "code",
    "id": "UrxyEKGn_ez7"
   },
   "outputs": [],
   "source": [
    "dataset = pd.read_csv('50_Startups.csv')\n",
    "X = dataset.iloc[:, :-1].values\n",
    "y = dataset.iloc[:, -1].values"
   ]
  },
  {
   "cell_type": "markdown",
   "metadata": {
    "colab_type": "text",
    "id": "VadrvE7s_lS9"
   },
   "source": [
    "## Encoding categorical data"
   ]
  },
  {
   "cell_type": "markdown",
   "metadata": {
    "colab_type": "text",
    "id": "WemVnqgeA70k"
   },
   "source": [
    "## Splitting the dataset into the Training set and Test set"
   ]
  },
  {
   "cell_type": "markdown",
   "metadata": {
    "colab_type": "text",
    "id": "k-McZVsQBINc"
   },
   "source": [
    "## Training the Multiple Linear Regression model on the Training set"
   ]
  },
  {
   "cell_type": "markdown",
   "metadata": {
    "colab_type": "text",
    "id": "xNkXL1YQBiBT"
   },
   "source": [
    "## Predicting the Test set results"
   ]
  }
 ],
 "metadata": {
  "colab": {
   "authorship_tag": "ABX9TyPhYhte6t7H4wEK4xPpDWT7",
   "name": "Multiple Linear Regression",
   "provenance": [],
   "toc_visible": true
  },
  "kernelspec": {
   "display_name": "Python 3 (ipykernel)",
   "language": "python",
   "name": "python3"
  },
  "language_info": {
   "codemirror_mode": {
    "name": "ipython",
    "version": 3
   },
   "file_extension": ".py",
   "mimetype": "text/x-python",
   "name": "python",
   "nbconvert_exporter": "python",
   "pygments_lexer": "ipython3",
   "version": "3.10.4"
  }
 },
 "nbformat": 4,
 "nbformat_minor": 1
}
